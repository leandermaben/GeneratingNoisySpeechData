{
 "cells": [
  {
   "cell_type": "code",
   "execution_count": 2,
   "metadata": {},
   "outputs": [],
   "source": [
    "from pydub import AudioSegment\n",
    "from pydub.playback import play"
   ]
  },
  {
   "cell_type": "code",
   "execution_count": 3,
   "metadata": {},
   "outputs": [],
   "source": [
    "tune = AudioSegment.from_wav(\"female.wav\")"
   ]
  },
  {
   "cell_type": "code",
   "execution_count": 4,
   "metadata": {},
   "outputs": [
    {
     "data": {
      "text/plain": [
       "<_io.BufferedRandom name='female_2.wav'>"
      ]
     },
     "execution_count": 4,
     "metadata": {},
     "output_type": "execute_result"
    }
   ],
   "source": [
    "tune2 = tune * 2\n",
    "tune2.export(\"female_2.wav\", \"wav\")"
   ]
  },
  {
   "cell_type": "code",
   "execution_count": 43,
   "metadata": {},
   "outputs": [],
   "source": [
    "import scipy.io.wavfile as wav\n",
    "import numpy as np"
   ]
  },
  {
   "cell_type": "code",
   "execution_count": 46,
   "metadata": {},
   "outputs": [],
   "source": [
    "sr, data = wav.read(\"female.wav\")"
   ]
  },
  {
   "cell_type": "code",
   "execution_count": 47,
   "metadata": {},
   "outputs": [
    {
     "name": "stdout",
     "output_type": "stream",
     "text": [
      "[  6  12  18 ...  14  36 -20]\n",
      "-----------------\n",
      "[  3   6   9 ...   7  18 -10]\n",
      "-----------------\n",
      "[ 0.00029033  0.00058066  0.000871   ...  0.00067744  0.00174199\n",
      " -0.00096777]\n",
      "[ 0.00029033  0.00058066  0.000871   ...  0.00067744  0.00174199\n",
      " -0.00096777]\n"
     ]
    }
   ],
   "source": [
    "data2 = data * 2\n",
    "print(data2)\n",
    "print(\"-----------------\")\n",
    "print(data)\n",
    "print(\"-----------------\")\n",
    "max_val = max(data)\n",
    "data = data/max_val\n",
    "max_val = max(data2)\n",
    "data2 = data2/max_val\n",
    "print(data2)\n",
    "print(data)"
   ]
  },
  {
   "cell_type": "code",
   "execution_count": 48,
   "metadata": {},
   "outputs": [],
   "source": [
    "wav.write(\"female_wav_2.wav\", int(sr), data)"
   ]
  },
  {
   "cell_type": "code",
   "execution_count": null,
   "metadata": {},
   "outputs": [],
   "source": []
  }
 ],
 "metadata": {
  "kernelspec": {
   "display_name": "Python 3",
   "language": "python",
   "name": "python3"
  },
  "language_info": {
   "codemirror_mode": {
    "name": "ipython",
    "version": 3
   },
   "file_extension": ".py",
   "mimetype": "text/x-python",
   "name": "python",
   "nbconvert_exporter": "python",
   "pygments_lexer": "ipython3",
   "version": "3.8.5"
  }
 },
 "nbformat": 4,
 "nbformat_minor": 4
}
